version https://git-lfs.github.com/spec/v1
oid sha256:a47ca5fc94548aea4292fac5c24766aa8526f1f1d9362e2c2987f9cad1a4a12a
size 17288
